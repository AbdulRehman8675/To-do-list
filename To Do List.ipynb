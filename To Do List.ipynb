{
 "cells": [
  {
   "cell_type": "code",
   "execution_count": 23,
   "id": "fb64a5f3-d417-4fb7-8410-e905e3c9c513",
   "metadata": {},
   "outputs": [
    {
     "name": "stdout",
     "output_type": "stream",
     "text": [
      "\n",
      "    Welcome Sir! Which task would you like to perform today?\n",
      "    1. Add a new task\n",
      "    2. Delete a task\n",
      "    3. Update a task\n",
      "    4. Show the task list\n",
      "    5. Exit\n",
      "    6. Insert a new task at a specific location\n",
      "    \n"
     ]
    },
    {
     "name": "stdin",
     "output_type": "stream",
     "text": [
      "Please select an option:  1\n",
      "Enter the task to add:  all \n"
     ]
    },
    {
     "name": "stdout",
     "output_type": "stream",
     "text": [
      "Task \"all \" added.\n",
      "\n",
      "    Welcome Sir! Which task would you like to perform today?\n",
      "    1. Add a new task\n",
      "    2. Delete a task\n",
      "    3. Update a task\n",
      "    4. Show the task list\n",
      "    5. Exit\n",
      "    6. Insert a new task at a specific location\n",
      "    \n"
     ]
    },
    {
     "name": "stdin",
     "output_type": "stream",
     "text": [
      "Please select an option:  2\n",
      "Enter the task to delete:  all\n"
     ]
    },
    {
     "name": "stdout",
     "output_type": "stream",
     "text": [
      "Task \"all\" not found in the list.\n",
      "\n",
      "    Welcome Sir! Which task would you like to perform today?\n",
      "    1. Add a new task\n",
      "    2. Delete a task\n",
      "    3. Update a task\n",
      "    4. Show the task list\n",
      "    5. Exit\n",
      "    6. Insert a new task at a specific location\n",
      "    \n"
     ]
    },
    {
     "name": "stdin",
     "output_type": "stream",
     "text": [
      "Please select an option:  2\n",
      "Enter the task to delete:  2\n"
     ]
    },
    {
     "name": "stdout",
     "output_type": "stream",
     "text": [
      "Task \"2\" not found in the list.\n",
      "\n",
      "    Welcome Sir! Which task would you like to perform today?\n",
      "    1. Add a new task\n",
      "    2. Delete a task\n",
      "    3. Update a task\n",
      "    4. Show the task list\n",
      "    5. Exit\n",
      "    6. Insert a new task at a specific location\n",
      "    \n"
     ]
    },
    {
     "name": "stdin",
     "output_type": "stream",
     "text": [
      "Please select an option:  2\n",
      "Enter the task to delete:  all\n"
     ]
    },
    {
     "name": "stdout",
     "output_type": "stream",
     "text": [
      "Task \"all\" not found in the list.\n",
      "\n",
      "    Welcome Sir! Which task would you like to perform today?\n",
      "    1. Add a new task\n",
      "    2. Delete a task\n",
      "    3. Update a task\n",
      "    4. Show the task list\n",
      "    5. Exit\n",
      "    6. Insert a new task at a specific location\n",
      "    \n"
     ]
    },
    {
     "name": "stdin",
     "output_type": "stream",
     "text": [
      "Please select an option:  2\n",
      "Enter the task to delete:  all \n"
     ]
    },
    {
     "name": "stdout",
     "output_type": "stream",
     "text": [
      "Task \"all \" deleted.\n",
      "\n",
      "    Welcome Sir! Which task would you like to perform today?\n",
      "    1. Add a new task\n",
      "    2. Delete a task\n",
      "    3. Update a task\n",
      "    4. Show the task list\n",
      "    5. Exit\n",
      "    6. Insert a new task at a specific location\n",
      "    \n"
     ]
    },
    {
     "ename": "KeyboardInterrupt",
     "evalue": "Interrupted by user",
     "output_type": "error",
     "traceback": [
      "\u001b[1;31m---------------------------------------------------------------------------\u001b[0m",
      "\u001b[1;31mKeyboardInterrupt\u001b[0m                         Traceback (most recent call last)",
      "Cell \u001b[1;32mIn[23], line 89\u001b[0m\n\u001b[0;32m     86\u001b[0m             \u001b[38;5;28mprint\u001b[39m(\u001b[38;5;124m\"\u001b[39m\u001b[38;5;124mPlease enter a number corresponding to the menu options.\u001b[39m\u001b[38;5;124m\"\u001b[39m)\n\u001b[0;32m     88\u001b[0m \u001b[38;5;66;03m# Run the program\u001b[39;00m\n\u001b[1;32m---> 89\u001b[0m \u001b[43mmain\u001b[49m\u001b[43m(\u001b[49m\u001b[43m)\u001b[49m\n",
      "Cell \u001b[1;32mIn[23], line 66\u001b[0m, in \u001b[0;36mmain\u001b[1;34m()\u001b[0m\n\u001b[0;32m     64\u001b[0m show_menu()\n\u001b[0;32m     65\u001b[0m \u001b[38;5;28;01mtry\u001b[39;00m:\n\u001b[1;32m---> 66\u001b[0m     user_input \u001b[38;5;241m=\u001b[39m \u001b[38;5;28mint\u001b[39m(\u001b[38;5;28;43minput\u001b[39;49m\u001b[43m(\u001b[49m\u001b[38;5;124;43m'\u001b[39;49m\u001b[38;5;124;43mPlease select an option: \u001b[39;49m\u001b[38;5;124;43m'\u001b[39;49m\u001b[43m)\u001b[49m)\n\u001b[0;32m     68\u001b[0m     \u001b[38;5;28;01mif\u001b[39;00m user_input \u001b[38;5;241m==\u001b[39m \u001b[38;5;241m1\u001b[39m:\n\u001b[0;32m     69\u001b[0m         add_task()\n",
      "File \u001b[1;32m~\\.conda\\envs\\rio\\Lib\\site-packages\\ipykernel\\kernelbase.py:1282\u001b[0m, in \u001b[0;36mKernel.raw_input\u001b[1;34m(self, prompt)\u001b[0m\n\u001b[0;32m   1280\u001b[0m     msg \u001b[38;5;241m=\u001b[39m \u001b[38;5;124m\"\u001b[39m\u001b[38;5;124mraw_input was called, but this frontend does not support input requests.\u001b[39m\u001b[38;5;124m\"\u001b[39m\n\u001b[0;32m   1281\u001b[0m     \u001b[38;5;28;01mraise\u001b[39;00m StdinNotImplementedError(msg)\n\u001b[1;32m-> 1282\u001b[0m \u001b[38;5;28;01mreturn\u001b[39;00m \u001b[38;5;28;43mself\u001b[39;49m\u001b[38;5;241;43m.\u001b[39;49m\u001b[43m_input_request\u001b[49m\u001b[43m(\u001b[49m\n\u001b[0;32m   1283\u001b[0m \u001b[43m    \u001b[49m\u001b[38;5;28;43mstr\u001b[39;49m\u001b[43m(\u001b[49m\u001b[43mprompt\u001b[49m\u001b[43m)\u001b[49m\u001b[43m,\u001b[49m\n\u001b[0;32m   1284\u001b[0m \u001b[43m    \u001b[49m\u001b[38;5;28;43mself\u001b[39;49m\u001b[38;5;241;43m.\u001b[39;49m\u001b[43m_parent_ident\u001b[49m\u001b[43m[\u001b[49m\u001b[38;5;124;43m\"\u001b[39;49m\u001b[38;5;124;43mshell\u001b[39;49m\u001b[38;5;124;43m\"\u001b[39;49m\u001b[43m]\u001b[49m\u001b[43m,\u001b[49m\n\u001b[0;32m   1285\u001b[0m \u001b[43m    \u001b[49m\u001b[38;5;28;43mself\u001b[39;49m\u001b[38;5;241;43m.\u001b[39;49m\u001b[43mget_parent\u001b[49m\u001b[43m(\u001b[49m\u001b[38;5;124;43m\"\u001b[39;49m\u001b[38;5;124;43mshell\u001b[39;49m\u001b[38;5;124;43m\"\u001b[39;49m\u001b[43m)\u001b[49m\u001b[43m,\u001b[49m\n\u001b[0;32m   1286\u001b[0m \u001b[43m    \u001b[49m\u001b[43mpassword\u001b[49m\u001b[38;5;241;43m=\u001b[39;49m\u001b[38;5;28;43;01mFalse\u001b[39;49;00m\u001b[43m,\u001b[49m\n\u001b[0;32m   1287\u001b[0m \u001b[43m\u001b[49m\u001b[43m)\u001b[49m\n",
      "File \u001b[1;32m~\\.conda\\envs\\rio\\Lib\\site-packages\\ipykernel\\kernelbase.py:1325\u001b[0m, in \u001b[0;36mKernel._input_request\u001b[1;34m(self, prompt, ident, parent, password)\u001b[0m\n\u001b[0;32m   1322\u001b[0m \u001b[38;5;28;01mexcept\u001b[39;00m \u001b[38;5;167;01mKeyboardInterrupt\u001b[39;00m:\n\u001b[0;32m   1323\u001b[0m     \u001b[38;5;66;03m# re-raise KeyboardInterrupt, to truncate traceback\u001b[39;00m\n\u001b[0;32m   1324\u001b[0m     msg \u001b[38;5;241m=\u001b[39m \u001b[38;5;124m\"\u001b[39m\u001b[38;5;124mInterrupted by user\u001b[39m\u001b[38;5;124m\"\u001b[39m\n\u001b[1;32m-> 1325\u001b[0m     \u001b[38;5;28;01mraise\u001b[39;00m \u001b[38;5;167;01mKeyboardInterrupt\u001b[39;00m(msg) \u001b[38;5;28;01mfrom\u001b[39;00m \u001b[38;5;28;01mNone\u001b[39;00m\n\u001b[0;32m   1326\u001b[0m \u001b[38;5;28;01mexcept\u001b[39;00m \u001b[38;5;167;01mException\u001b[39;00m:\n\u001b[0;32m   1327\u001b[0m     \u001b[38;5;28mself\u001b[39m\u001b[38;5;241m.\u001b[39mlog\u001b[38;5;241m.\u001b[39mwarning(\u001b[38;5;124m\"\u001b[39m\u001b[38;5;124mInvalid Message:\u001b[39m\u001b[38;5;124m\"\u001b[39m, exc_info\u001b[38;5;241m=\u001b[39m\u001b[38;5;28;01mTrue\u001b[39;00m)\n",
      "\u001b[1;31mKeyboardInterrupt\u001b[0m: Interrupted by user"
     ]
    }
   ],
   "source": [
    "# Initialize an empty to-do list\n",
    "to_Do_list = []\n",
    "\n",
    "# Function to display the menu\n",
    "def show_menu():\n",
    "    print(\"\"\"\n",
    "    Welcome Sir! Which task would you like to perform today?\n",
    "    1. Add a new task\n",
    "    2. Delete a task\n",
    "    3. Update a task\n",
    "    4. Show the task list\n",
    "    5. Exit\n",
    "    6. Insert a new task at a specific location\n",
    "    \"\"\")\n",
    "\n",
    "# Function to add a task\n",
    "def add_task():\n",
    "    task = input(\"Enter the task to add: \")\n",
    "    to_Do_list.append(task)\n",
    "    print(f'Task \"{task}\" added.')\n",
    "\n",
    "# Function to delete a task\n",
    "def delete_task():\n",
    "    task = input(\"Enter the task to delete: \")\n",
    "    if task in to_Do_list:\n",
    "        to_Do_list.remove(task)\n",
    "        print(f'Task \"{task}\" deleted.')\n",
    "    else:\n",
    "        print(f'Task \"{task}\" not found in the list.')\n",
    "\n",
    "# Function to update a task\n",
    "def update_task():\n",
    "    old_task = input(\"Enter the task you want to update: \")\n",
    "    if old_task in to_Do_list:\n",
    "        new_task = input(\"Enter the new task: \")\n",
    "        index = to_Do_list.index(old_task)\n",
    "        to_Do_list[index] = new_task\n",
    "        print(f'Task \"{old_task}\" updated to \"{new_task}\".')\n",
    "    else:\n",
    "        print(f'Task \"{old_task}\" not found in the list.')\n",
    "\n",
    "# Function to show the task list\n",
    "def show_list():\n",
    "    if to_Do_list:\n",
    "        print(\"Here is your to-do list:\")\n",
    "        for i, task in enumerate(to_Do_list, 1):\n",
    "            print(f\"{i}. {task}\")\n",
    "    else:\n",
    "        print(\"Your to-do list is empty.\")\n",
    "\n",
    "# Function to insert a task at a specific location\n",
    "def insert_task():\n",
    "    task = input(\"Enter the task to add: \")\n",
    "    loc = int(input(\"Enter the location to insert the task: \"))\n",
    "    if loc < 0 or loc > len(to_Do_list):\n",
    "        print(\"Invalid location! Please enter a valid location within the list.\")\n",
    "    else:\n",
    "        to_Do_list.insert(loc, task)\n",
    "        print(f'Task \"{task}\" added at location {loc}.')\n",
    "\n",
    "# Function to handle the menu and operations\n",
    "def main():\n",
    "    while True:\n",
    "        show_menu()\n",
    "        try:\n",
    "            user_input = int(input('Please select an option: '))\n",
    "            \n",
    "            if user_input == 1:\n",
    "                add_task()\n",
    "            elif user_input == 2:\n",
    "                delete_task()\n",
    "            elif user_input == 3:\n",
    "                update_task()\n",
    "            elif user_input == 4:\n",
    "                show_list()\n",
    "            elif user_input == 5:\n",
    "                print(\"Exiting... Here is your final to-do list:\")\n",
    "                show_list()\n",
    "                print(\"TO-DO list ended. Goodbye!\")\n",
    "                break\n",
    "            elif user_input == 6:\n",
    "                insert_task()\n",
    "            else:\n",
    "                print(\"Invalid input! Please select a valid option.\")\n",
    "        except ValueError:\n",
    "            print(\"Please enter a number corresponding to the menu options.\")\n",
    "\n",
    "# Run the program\n",
    "main()\n"
   ]
  },
  {
   "cell_type": "code",
   "execution_count": null,
   "id": "e448a2cd-df3b-4460-b150-34004c347c19",
   "metadata": {},
   "outputs": [],
   "source": []
  }
 ],
 "metadata": {
  "kernelspec": {
   "display_name": "Python 3 (ipykernel)",
   "language": "python",
   "name": "python3"
  },
  "language_info": {
   "codemirror_mode": {
    "name": "ipython",
    "version": 3
   },
   "file_extension": ".py",
   "mimetype": "text/x-python",
   "name": "python",
   "nbconvert_exporter": "python",
   "pygments_lexer": "ipython3",
   "version": "3.12.4"
  }
 },
 "nbformat": 4,
 "nbformat_minor": 5
}
